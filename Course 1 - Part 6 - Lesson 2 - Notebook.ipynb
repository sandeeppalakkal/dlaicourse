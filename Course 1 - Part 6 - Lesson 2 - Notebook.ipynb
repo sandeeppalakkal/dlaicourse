{
  "nbformat": 4,
  "nbformat_minor": 0,
  "metadata": {
    "colab": {
      "name": "Course 1 - Part 6 - Lesson 2 - Notebook.ipynb",
      "provenance": [],
      "collapsed_sections": []
    },
    "kernelspec": {
      "name": "python3",
      "display_name": "Python 3"
    }
  },
  "cells": [
    {
      "cell_type": "markdown",
      "metadata": {
        "id": "R6gHiH-I7uFa",
        "colab_type": "text"
      },
      "source": [
        "#Improving Computer Vision Accuracy using Convolutions\n",
        "\n",
        "In the previous lessons you saw how to do fashion recognition using a Deep Neural Network (DNN) containing three layers -- the input layer (in the shape of the data), the output layer (in the shape of the desired output) and a hidden layer. You experimented with the impact of different sized of hidden layer, number of training epochs etc on the final accuracy.\n",
        "\n",
        "For convenience, here's the entire code again. Run it and take a note of the test accuracy that is printed out at the end. "
      ]
    },
    {
      "cell_type": "code",
      "metadata": {
        "id": "xcsRtq9OLorS",
        "colab_type": "code",
        "outputId": "30e1a261-baaa-4d59-f265-f640804a9162",
        "colab": {
          "base_uri": "https://localhost:8080/",
          "height": 243
        }
      },
      "source": [
        "import tensorflow as tf\n",
        "mnist = tf.keras.datasets.fashion_mnist\n",
        "(training_images, training_labels), (test_images, test_labels) = mnist.load_data()\n",
        "training_images=training_images / 255.0\n",
        "test_images=test_images / 255.0\n",
        "model = tf.keras.models.Sequential([\n",
        "  tf.keras.layers.Flatten(),\n",
        "  tf.keras.layers.Dense(128, activation=tf.nn.relu),\n",
        "  tf.keras.layers.Dense(10, activation=tf.nn.softmax)\n",
        "])\n",
        "model.compile(optimizer='adam', loss='sparse_categorical_crossentropy', metrics=['accuracy'])\n",
        "model.fit(training_images, training_labels, epochs=5)\n",
        "\n",
        "test_loss,test_accuracy = model.evaluate(test_images, test_labels)\n",
        "print(test_accuracy)"
      ],
      "execution_count": 0,
      "outputs": [
        {
          "output_type": "stream",
          "text": [
            "Train on 60000 samples\n",
            "Epoch 1/5\n",
            "60000/60000 [==============================] - 4s 72us/sample - loss: 0.4995 - acc: 0.8234\n",
            "Epoch 2/5\n",
            "60000/60000 [==============================] - 4s 72us/sample - loss: 0.3769 - acc: 0.8633\n",
            "Epoch 3/5\n",
            "60000/60000 [==============================] - 4s 73us/sample - loss: 0.3389 - acc: 0.8758\n",
            "Epoch 4/5\n",
            "60000/60000 [==============================] - 4s 73us/sample - loss: 0.3138 - acc: 0.8835\n",
            "Epoch 5/5\n",
            "60000/60000 [==============================] - 4s 73us/sample - loss: 0.2958 - acc: 0.8899\n",
            "10000/10000 [==============================] - 0s 39us/sample - loss: 0.3682 - acc: 0.8656\n",
            "0.8656\n"
          ],
          "name": "stdout"
        }
      ]
    },
    {
      "cell_type": "markdown",
      "metadata": {
        "id": "zldEXSsF8Noz",
        "colab_type": "text"
      },
      "source": [
        "Your accuracy is probably about 89% on training and 87% on validation...not bad...But how do you make that even better? One way is to use something called Convolutions. I'm not going to details on Convolutions here, but the ultimate concept is that they narrow down the content of the image to focus on specific, distinct, details. \n",
        "\n",
        "If you've ever done image processing using a filter (like this: https://en.wikipedia.org/wiki/Kernel_(image_processing)) then convolutions will look very familiar.\n",
        "\n",
        "In short, you take an array (usually 3x3 or 5x5) and pass it over the image. By changing the underlying pixels based on the formula within that matrix, you can do things like edge detection. So, for example, if you look at the above link, you'll see a 3x3 that is defined for edge detection where the middle cell is 8, and all of its neighbors are -1. In this case, for each pixel, you would multiply its value by 8, then subtract the value of each neighbor. Do this for every pixel, and you'll end up with a new image that has the edges enhanced.\n",
        "\n",
        "This is perfect for computer vision, because often it's features that can get highlighted like this that distinguish one item for another, and the amount of information needed is then much less...because you'll just train on the highlighted features.\n",
        "\n",
        "That's the concept of Convolutional Neural Networks. Add some layers to do convolution before you have the dense layers, and then the information going to the dense layers is more focussed, and possibly more accurate.\n",
        "\n",
        "Run the below code -- this is the same neural network as earlier, but this time with Convolutional layers added first. It will take longer, but look at the impact on the accuracy:"
      ]
    },
    {
      "cell_type": "code",
      "metadata": {
        "id": "C0tFgT1MMKi6",
        "colab_type": "code",
        "outputId": "3c7cd593-c3f1-408d-d1c3-3a6188585585",
        "colab": {
          "base_uri": "https://localhost:8080/",
          "height": 573
        }
      },
      "source": [
        "import tensorflow as tf\n",
        "print(tf.__version__)\n",
        "mnist = tf.keras.datasets.fashion_mnist\n",
        "(training_images, training_labels), (test_images, test_labels) = mnist.load_data()\n",
        "training_images=training_images.reshape(60000, 28, 28, 1)\n",
        "training_images=training_images / 255.0\n",
        "test_images = test_images.reshape(10000, 28, 28, 1)\n",
        "test_images=test_images/255.0\n",
        "model = tf.keras.models.Sequential([\n",
        "  tf.keras.layers.Conv2D(64, (3,3), activation='relu', input_shape=(28, 28, 1)),\n",
        "  tf.keras.layers.MaxPooling2D(2, 2),\n",
        "  tf.keras.layers.Conv2D(64, (3,3), activation='relu'),\n",
        "  tf.keras.layers.MaxPooling2D(2,2),\n",
        "  tf.keras.layers.Flatten(),\n",
        "  tf.keras.layers.Dense(128, activation='relu'),\n",
        "  tf.keras.layers.Dense(10, activation='softmax')\n",
        "])\n",
        "model.compile(optimizer='adam', loss='sparse_categorical_crossentropy', metrics=['accuracy'])\n",
        "model.summary()\n",
        "model.fit(training_images, training_labels, epochs=3)\n",
        "test_loss,test_accuracy = model.evaluate(test_images, test_labels)\n",
        "print(test_accuracy)\n"
      ],
      "execution_count": 0,
      "outputs": [
        {
          "output_type": "stream",
          "text": [
            "1.15.0\n",
            "Model: \"sequential_5\"\n",
            "_________________________________________________________________\n",
            "Layer (type)                 Output Shape              Param #   \n",
            "=================================================================\n",
            "conv2d_4 (Conv2D)            (None, 26, 26, 64)        640       \n",
            "_________________________________________________________________\n",
            "max_pooling2d_4 (MaxPooling2 (None, 13, 13, 64)        0         \n",
            "_________________________________________________________________\n",
            "conv2d_5 (Conv2D)            (None, 11, 11, 64)        36928     \n",
            "_________________________________________________________________\n",
            "max_pooling2d_5 (MaxPooling2 (None, 5, 5, 64)          0         \n",
            "_________________________________________________________________\n",
            "flatten_5 (Flatten)          (None, 1600)              0         \n",
            "_________________________________________________________________\n",
            "dense_10 (Dense)             (None, 128)               204928    \n",
            "_________________________________________________________________\n",
            "dense_11 (Dense)             (None, 10)                1290      \n",
            "=================================================================\n",
            "Total params: 243,786\n",
            "Trainable params: 243,786\n",
            "Non-trainable params: 0\n",
            "_________________________________________________________________\n",
            "Train on 60000 samples\n",
            "Epoch 1/3\n",
            "60000/60000 [==============================] - 82s 1ms/sample - loss: 0.4494 - acc: 0.8360\n",
            "Epoch 2/3\n",
            "60000/60000 [==============================] - 81s 1ms/sample - loss: 0.3002 - acc: 0.8882\n",
            "Epoch 3/3\n",
            "60000/60000 [==============================] - 81s 1ms/sample - loss: 0.2540 - acc: 0.9062\n",
            "10000/10000 [==============================] - 4s 410us/sample - loss: 0.2683 - acc: 0.9031\n",
            "0.9031\n"
          ],
          "name": "stdout"
        }
      ]
    },
    {
      "cell_type": "markdown",
      "metadata": {
        "id": "uRLfZ0jt-fQI",
        "colab_type": "text"
      },
      "source": [
        "It's likely gone up to about 93% on the training data and 91% on the validation data. \n",
        "\n",
        "That's significant, and a step in the right direction!\n",
        "\n",
        "Try running it for more epochs -- say about 20, and explore the results! But while the results might seem really good, the validation results may actually go down, due to something called 'overfitting' which will be discussed later. \n",
        "\n",
        "(In a nutshell, 'overfitting' occurs when the network learns the data from the training set really well, but it's too specialised to only that data, and as a result is less effective at seeing *other* data. For example, if all your life you only saw red shoes, then when you see a red shoe you would be very good at identifying it, but blue suade shoes might confuse you...and you know you should never mess with my blue suede shoes.)\n",
        "\n",
        "Then, look at the code again, and see, step by step how the Convolutions were built:"
      ]
    },
    {
      "cell_type": "markdown",
      "metadata": {
        "id": "RaLX5cgI_JDb",
        "colab_type": "text"
      },
      "source": [
        "Step 1 is to gather the data. You'll notice that there's a bit of a change here in that the training data needed to be reshaped. That's because the first convolution expects a single tensor containing everything, so instead of 60,000 28x28x1 items in a list, we have a single 4D list that is 60,000x28x28x1, and the same for the test images. If you don't do this, you'll get an error when training as the Convolutions do not recognize the shape. \n",
        "\n",
        "\n",
        "\n",
        "```\n",
        "import tensorflow as tf\n",
        "mnist = tf.keras.datasets.fashion_mnist\n",
        "(training_images, training_labels), (test_images, test_labels) = mnist.load_data()\n",
        "training_images=training_images.reshape(60000, 28, 28, 1)\n",
        "training_images=training_images / 255.0\n",
        "test_images = test_images.reshape(10000, 28, 28, 1)\n",
        "test_images=test_images/255.0\n",
        "```\n",
        "\n"
      ]
    },
    {
      "cell_type": "markdown",
      "metadata": {
        "id": "SS_W_INc_kJQ",
        "colab_type": "text"
      },
      "source": [
        "Next is to define your model. Now instead of the input layer at the top, you're going to add a Convolution. The parameters are:\n",
        "\n",
        "1. The number of convolutions you want to generate. Purely arbitrary, but good to start with something in the order of 32\n",
        "2. The size of the Convolution, in this case a 3x3 grid\n",
        "3. The activation function to use -- in this case we'll use relu, which you might recall is the equivalent of returning x when x>0, else returning 0\n",
        "4. In the first layer, the shape of the input data.\n",
        "\n",
        "You'll follow the Convolution with a MaxPooling layer which is then designed to compress the image, while maintaining the content of the features that were highlighted by the convlution. By specifying (2,2) for the MaxPooling, the effect is to quarter the size of the image. Without going into too much detail here, the idea is that it creates a 2x2 array of pixels, and picks the biggest one, thus turning 4 pixels into 1. It repeats this across the image, and in so doing halves the number of horizontal, and halves the number of vertical pixels, effectively reducing the image by 25%.\n",
        "\n",
        "You can call model.summary() to see the size and shape of the network, and you'll notice that after every MaxPooling layer, the image size is reduced in this way. \n",
        "\n",
        "\n",
        "```\n",
        "model = tf.keras.models.Sequential([\n",
        "  tf.keras.layers.Conv2D(32, (3,3), activation='relu', input_shape=(28, 28, 1)),\n",
        "  tf.keras.layers.MaxPooling2D(2, 2),\n",
        "```\n",
        "\n"
      ]
    },
    {
      "cell_type": "markdown",
      "metadata": {
        "id": "RMorM6daADjA",
        "colab_type": "text"
      },
      "source": [
        "Add another convolution\n",
        "\n",
        "\n",
        "\n",
        "```\n",
        "  tf.keras.layers.Conv2D(64, (3,3), activation='relu'),\n",
        "  tf.keras.layers.MaxPooling2D(2,2)\n",
        "```\n",
        "\n"
      ]
    },
    {
      "cell_type": "markdown",
      "metadata": {
        "colab_type": "text",
        "id": "b1-x-kZF4_tC"
      },
      "source": [
        "Now flatten the output. After this you'll just have the same DNN structure as the non convolutional version\n",
        "\n",
        "```\n",
        "  tf.keras.layers.Flatten(),\n",
        "```\n",
        "\n"
      ]
    },
    {
      "cell_type": "markdown",
      "metadata": {
        "id": "qPtqR23uASjX",
        "colab_type": "text"
      },
      "source": [
        "The same 128 dense layers, and 10 output layers as in the pre-convolution example:\n",
        "\n",
        "\n",
        "\n",
        "```\n",
        "  tf.keras.layers.Dense(128, activation='relu'),\n",
        "  tf.keras.layers.Dense(10, activation='softmax')\n",
        "])\n",
        "```\n",
        "\n"
      ]
    },
    {
      "cell_type": "markdown",
      "metadata": {
        "id": "C0GSsjUhAaSj",
        "colab_type": "text"
      },
      "source": [
        "Now compile the model, call the fit method to do the training, and evaluate the loss and accuracy from the test set.\n",
        "\n",
        "\n",
        "\n",
        "```\n",
        "model.compile(optimizer='adam', loss='sparse_categorical_crossentropy', metrics=['accuracy'])\n",
        "model.fit(training_images, training_labels, epochs=5)\n",
        "test_loss, test_acc = model.evaluate(test_images, test_labels)\n",
        "print(test_acc)\n",
        "```\n",
        "\n",
        "\n"
      ]
    },
    {
      "cell_type": "markdown",
      "metadata": {
        "id": "IXx_LX3SAlFs",
        "colab_type": "text"
      },
      "source": [
        "# Visualizing the Convolutions and Pooling\n",
        "\n",
        "This code will show us the convolutions graphically. The print (test_labels[;100]) shows us the first 100 labels in the test set, and you can see that the ones at index 0, index 23 and index 28 are all the same value (9). They're all shoes. Let's take a look at the result of running the convolution on each, and you'll begin to see common features between them emerge. Now, when the DNN is training on that data, it's working with a lot less, and it's perhaps finding a commonality between shoes based on this convolution/pooling combination."
      ]
    },
    {
      "cell_type": "code",
      "metadata": {
        "id": "f-6nX4QsOku6",
        "colab_type": "code",
        "outputId": "dc2c2409-9249-4125-ed18-d75e7f467ba5",
        "colab": {
          "base_uri": "https://localhost:8080/",
          "height": 69
        }
      },
      "source": [
        "print(test_labels[:100])"
      ],
      "execution_count": 0,
      "outputs": [
        {
          "output_type": "stream",
          "text": [
            "[9 2 1 1 6 1 4 6 5 7 4 5 7 3 4 1 2 4 8 0 2 5 7 9 1 4 6 0 9 3 8 8 3 3 8 0 7\n",
            " 5 7 9 6 1 3 7 6 7 2 1 2 2 4 4 5 8 2 2 8 4 8 0 7 7 8 5 1 1 2 3 9 8 7 0 2 6\n",
            " 2 3 1 2 8 4 1 8 5 9 5 0 3 2 0 6 5 3 6 7 1 8 0 1 4 2]\n"
          ],
          "name": "stdout"
        }
      ]
    },
    {
      "cell_type": "code",
      "metadata": {
        "id": "9FGsHhv6JvDx",
        "colab_type": "code",
        "outputId": "4d187e75-50d5-46c1-f5e6-373b983cc2ad",
        "colab": {
          "base_uri": "https://localhost:8080/",
          "height": 268
        }
      },
      "source": [
        "import matplotlib.pyplot as plt\n",
        "f, axarr = plt.subplots(3,4)\n",
        "FIRST_IMAGE=0\n",
        "SECOND_IMAGE=7\n",
        "THIRD_IMAGE=26\n",
        "CONVOLUTION_NUMBER = 1\n",
        "from tensorflow.keras import models\n",
        "layer_outputs = [layer.output for layer in model.layers]\n",
        "activation_model = tf.keras.models.Model(inputs = model.input, outputs = layer_outputs)\n",
        "for x in range(0,4):\n",
        "  f1 = activation_model.predict(test_images[FIRST_IMAGE].reshape(1, 28, 28, 1))[x]\n",
        "  axarr[0,x].imshow(f1[0, : , :, CONVOLUTION_NUMBER], cmap='inferno')\n",
        "  axarr[0,x].grid(False)\n",
        "  f2 = activation_model.predict(test_images[SECOND_IMAGE].reshape(1, 28, 28, 1))[x]\n",
        "  axarr[1,x].imshow(f2[0, : , :, CONVOLUTION_NUMBER], cmap='inferno')\n",
        "  axarr[1,x].grid(False)\n",
        "  f3 = activation_model.predict(test_images[THIRD_IMAGE].reshape(1, 28, 28, 1))[x]\n",
        "  axarr[2,x].imshow(f3[0, : , :, CONVOLUTION_NUMBER], cmap='inferno')\n",
        "  axarr[2,x].grid(False)"
      ],
      "execution_count": 0,
      "outputs": [
        {
          "output_type": "display_data",
          "data": {
            "image/png": "[encoded data removed]",
            "text/plain": [
              "<Figure size 432x288 with 12 Axes>"
            ]
          },
          "metadata": {
            "tags": []
          }
        }
      ]
    },
    {
      "cell_type": "markdown",
      "metadata": {
        "id": "8KVPZqgHo5Ux",
        "colab_type": "text"
      },
      "source": [
        "EXERCISES\n",
        "\n",
        "1. Try editing the convolutions. Change the 32s to either 16 or 64. What impact will this have on accuracy and/or training time.\n",
        "\n",
        "2. Remove the final Convolution. What impact will this have on accuracy or training time?\n",
        "\n",
        "3. How about adding more Convolutions? What impact do you think this will have? Experiment with it.\n",
        "\n",
        "4. Remove all Convolutions but the first. What impact do you think this will have? Experiment with it. \n",
        "\n",
        "5. In the previous lesson you implemented a callback to check on the loss function and to cancel training once it hit a certain amount. See if you can implement that here!"
      ]
    },
    {
      "cell_type": "markdown",
      "metadata": {
        "id": "PbEGxV8z1tnH",
        "colab_type": "text"
      },
      "source": [
        "## One Conv Layer, 16 Nodes"
      ]
    },
    {
      "cell_type": "code",
      "metadata": {
        "id": "ZpYRidBXpBPM",
        "colab_type": "code",
        "outputId": "2f0d5bf7-7ff4-469e-c742-29b6c0c725b4",
        "colab": {
          "base_uri": "https://localhost:8080/",
          "height": 434
        }
      },
      "source": [
        "import tensorflow as tf\n",
        "print(tf.__version__)\n",
        "mnist = tf.keras.datasets.mnist\n",
        "(training_images, training_labels), (test_images, test_labels) = mnist.load_data()\n",
        "training_images=training_images.reshape(60000, 28, 28, 1)\n",
        "training_images=training_images / 255.0\n",
        "test_images = test_images.reshape(10000, 28, 28, 1)\n",
        "test_images=test_images/255.0\n",
        "model = tf.keras.models.Sequential([\n",
        "  tf.keras.layers.Conv2D(16, (3,3), activation='relu', input_shape=(28, 28, 1)),\n",
        "  tf.keras.layers.MaxPooling2D(2, 2),\n",
        "  tf.keras.layers.Flatten(),\n",
        "  tf.keras.layers.Dense(128, activation='relu'),\n",
        "  tf.keras.layers.Dense(10, activation='softmax')\n",
        "])\n",
        "model.compile(optimizer='adam', loss='sparse_categorical_crossentropy', metrics=['accuracy'])\n",
        "model.fit(training_images, training_labels, epochs=10)\n",
        "test_loss, test_acc = model.evaluate(test_images, test_labels)\n",
        "print(test_acc)"
      ],
      "execution_count": 0,
      "outputs": [
        {
          "output_type": "stream",
          "text": [
            "1.15.0\n",
            "Train on 60000 samples\n",
            "Epoch 1/10\n",
            "60000/60000 [==============================] - 25s 417us/sample - loss: 0.1571 - acc: 0.9550\n",
            "Epoch 2/10\n",
            "60000/60000 [==============================] - 25s 416us/sample - loss: 0.0547 - acc: 0.9834\n",
            "Epoch 3/10\n",
            "60000/60000 [==============================] - 25s 417us/sample - loss: 0.0355 - acc: 0.9887\n",
            "Epoch 4/10\n",
            "60000/60000 [==============================] - 25s 414us/sample - loss: 0.0243 - acc: 0.9920\n",
            "Epoch 5/10\n",
            "60000/60000 [==============================] - 25s 420us/sample - loss: 0.0169 - acc: 0.9948\n",
            "Epoch 6/10\n",
            "60000/60000 [==============================] - 25s 417us/sample - loss: 0.0126 - acc: 0.9959\n",
            "Epoch 7/10\n",
            "60000/60000 [==============================] - 25s 418us/sample - loss: 0.0092 - acc: 0.9969\n",
            "Epoch 8/10\n",
            "60000/60000 [==============================] - 25s 415us/sample - loss: 0.0078 - acc: 0.9974\n",
            "Epoch 9/10\n",
            "60000/60000 [==============================] - 25s 416us/sample - loss: 0.0057 - acc: 0.9980\n",
            "Epoch 10/10\n",
            "60000/60000 [==============================] - 25s 417us/sample - loss: 0.0048 - acc: 0.9983\n",
            "10000/10000 [==============================] - 2s 184us/sample - loss: 0.0613 - acc: 0.9848\n",
            "0.9848\n"
          ],
          "name": "stdout"
        }
      ]
    },
    {
      "cell_type": "markdown",
      "metadata": {
        "id": "zYtUkli21812",
        "colab_type": "text"
      },
      "source": [
        "## One Conv Layer, 32 Nodes"
      ]
    },
    {
      "cell_type": "code",
      "metadata": {
        "id": "2cIVdgFH2APP",
        "colab_type": "code",
        "outputId": "fb53ad9e-9e16-467b-d191-833355cce7e5",
        "colab": {
          "base_uri": "https://localhost:8080/",
          "height": 434
        }
      },
      "source": [
        "import tensorflow as tf\n",
        "print(tf.__version__)\n",
        "mnist = tf.keras.datasets.mnist\n",
        "(training_images, training_labels), (test_images, test_labels) = mnist.load_data()\n",
        "training_images=training_images.reshape(60000, 28, 28, 1)\n",
        "training_images=training_images / 255.0\n",
        "test_images = test_images.reshape(10000, 28, 28, 1)\n",
        "test_images=test_images/255.0\n",
        "model = tf.keras.models.Sequential([\n",
        "  tf.keras.layers.Conv2D(32, (3,3), activation='relu', input_shape=(28, 28, 1)),\n",
        "  tf.keras.layers.MaxPooling2D(2, 2),\n",
        "  tf.keras.layers.Flatten(),\n",
        "  tf.keras.layers.Dense(128, activation='relu'),\n",
        "  tf.keras.layers.Dense(10, activation='softmax')\n",
        "])\n",
        "model.compile(optimizer='adam', loss='sparse_categorical_crossentropy', metrics=['accuracy'])\n",
        "model.fit(training_images, training_labels, epochs=10)\n",
        "test_loss, test_acc = model.evaluate(test_images, test_labels)\n",
        "print(test_acc)"
      ],
      "execution_count": 0,
      "outputs": [
        {
          "output_type": "stream",
          "text": [
            "1.15.0\n",
            "Train on 60000 samples\n",
            "Epoch 1/10\n",
            "60000/60000 [==============================] - 35s 582us/sample - loss: 0.1484 - acc: 0.9555\n",
            "Epoch 2/10\n",
            "60000/60000 [==============================] - 35s 581us/sample - loss: 0.0510 - acc: 0.9847\n",
            "Epoch 3/10\n",
            "60000/60000 [==============================] - 35s 578us/sample - loss: 0.0327 - acc: 0.9897\n",
            "Epoch 4/10\n",
            "60000/60000 [==============================] - 35s 582us/sample - loss: 0.0207 - acc: 0.9935\n",
            "Epoch 5/10\n",
            "60000/60000 [==============================] - 35s 577us/sample - loss: 0.0145 - acc: 0.9957\n",
            "Epoch 6/10\n",
            "60000/60000 [==============================] - 34s 570us/sample - loss: 0.0105 - acc: 0.9966\n",
            "Epoch 7/10\n",
            "60000/60000 [==============================] - 35s 577us/sample - loss: 0.0084 - acc: 0.9973\n",
            "Epoch 8/10\n",
            "60000/60000 [==============================] - 35s 578us/sample - loss: 0.0062 - acc: 0.9977\n",
            "Epoch 9/10\n",
            "60000/60000 [==============================] - 35s 582us/sample - loss: 0.0052 - acc: 0.9982\n",
            "Epoch 10/10\n",
            "60000/60000 [==============================] - 34s 572us/sample - loss: 0.0034 - acc: 0.9989\n",
            "10000/10000 [==============================] - 2s 212us/sample - loss: 0.0667 - acc: 0.9864\n",
            "0.9864\n"
          ],
          "name": "stdout"
        }
      ]
    },
    {
      "cell_type": "markdown",
      "metadata": {
        "id": "wpg5twWz4CHc",
        "colab_type": "text"
      },
      "source": [
        "## One Conv Layer, 64 Nodes"
      ]
    },
    {
      "cell_type": "code",
      "metadata": {
        "id": "LMoHUzP14DYq",
        "colab_type": "code",
        "outputId": "50f1a1da-9a9b-4d48-ea85-766c23f4f97b",
        "colab": {
          "base_uri": "https://localhost:8080/",
          "height": 434
        }
      },
      "source": [
        "import tensorflow as tf\n",
        "print(tf.__version__)\n",
        "mnist = tf.keras.datasets.mnist\n",
        "(training_images, training_labels), (test_images, test_labels) = mnist.load_data()\n",
        "training_images=training_images.reshape(60000, 28, 28, 1)\n",
        "training_images=training_images / 255.0\n",
        "test_images = test_images.reshape(10000, 28, 28, 1)\n",
        "test_images=test_images/255.0\n",
        "model = tf.keras.models.Sequential([\n",
        "  tf.keras.layers.Conv2D(64, (3,3), activation='relu', input_shape=(28, 28, 1)),\n",
        "  tf.keras.layers.MaxPooling2D(2, 2),\n",
        "  tf.keras.layers.Flatten(),\n",
        "  tf.keras.layers.Dense(128, activation='relu'),\n",
        "  tf.keras.layers.Dense(10, activation='softmax')\n",
        "])\n",
        "model.compile(optimizer='adam', loss='sparse_categorical_crossentropy', metrics=['accuracy'])\n",
        "model.fit(training_images, training_labels, epochs=10)\n",
        "test_loss, test_acc = model.evaluate(test_images, test_labels)\n",
        "print(test_acc)"
      ],
      "execution_count": 0,
      "outputs": [
        {
          "output_type": "stream",
          "text": [
            "1.15.0\n",
            "Train on 60000 samples\n",
            "Epoch 1/10\n",
            "60000/60000 [==============================] - 56s 930us/sample - loss: 0.1455 - acc: 0.9557\n",
            "Epoch 2/10\n",
            "60000/60000 [==============================] - 55s 924us/sample - loss: 0.0492 - acc: 0.9852\n",
            "Epoch 3/10\n",
            "60000/60000 [==============================] - 55s 924us/sample - loss: 0.0311 - acc: 0.9903\n",
            "Epoch 4/10\n",
            "60000/60000 [==============================] - 56s 927us/sample - loss: 0.0195 - acc: 0.9937\n",
            "Epoch 5/10\n",
            "60000/60000 [==============================] - 55s 921us/sample - loss: 0.0133 - acc: 0.9956\n",
            "Epoch 6/10\n",
            "60000/60000 [==============================] - 55s 918us/sample - loss: 0.0104 - acc: 0.9967\n",
            "Epoch 7/10\n",
            "60000/60000 [==============================] - 55s 911us/sample - loss: 0.0073 - acc: 0.9979\n",
            "Epoch 8/10\n",
            "60000/60000 [==============================] - 55s 913us/sample - loss: 0.0067 - acc: 0.9974\n",
            "Epoch 9/10\n",
            "60000/60000 [==============================] - 55s 910us/sample - loss: 0.0048 - acc: 0.9984\n",
            "Epoch 10/10\n",
            "60000/60000 [==============================] - 54s 908us/sample - loss: 0.0043 - acc: 0.9986\n",
            "10000/10000 [==============================] - 3s 266us/sample - loss: 0.0598 - acc: 0.9854\n",
            "0.9854\n"
          ],
          "name": "stdout"
        }
      ]
    },
    {
      "cell_type": "markdown",
      "metadata": {
        "id": "qpa0wC6a9TbG",
        "colab_type": "text"
      },
      "source": [
        "## Two Conv Layer, 16 & 16 Nodes"
      ]
    },
    {
      "cell_type": "code",
      "metadata": {
        "id": "9OR4GO8n9Vl3",
        "colab_type": "code",
        "outputId": "765ecb68-e2b7-4d1c-f4bf-65b184a772ab",
        "colab": {
          "base_uri": "https://localhost:8080/",
          "height": 434
        }
      },
      "source": [
        "import tensorflow as tf\n",
        "print(tf.__version__)\n",
        "mnist = tf.keras.datasets.mnist\n",
        "(training_images, training_labels), (test_images, test_labels) = mnist.load_data()\n",
        "training_images=training_images.reshape(60000, 28, 28, 1)\n",
        "training_images=training_images / 255.0\n",
        "test_images = test_images.reshape(10000, 28, 28, 1)\n",
        "test_images=test_images/255.0\n",
        "model = tf.keras.models.Sequential([\n",
        "  tf.keras.layers.Conv2D(16, (3,3), activation='relu', input_shape=(28, 28, 1)),\n",
        "  tf.keras.layers.MaxPooling2D(2, 2),\n",
        "  tf.keras.layers.Conv2D(16,(3,3),activation='relu'),\n",
        "  tf.keras.layers.MaxPooling2D(2,2),\n",
        "  tf.keras.layers.Flatten(),\n",
        "  tf.keras.layers.Dense(128, activation='relu'),\n",
        "  tf.keras.layers.Dense(10, activation='softmax')\n",
        "])\n",
        "model.compile(optimizer='adam', loss='sparse_categorical_crossentropy', metrics=['accuracy'])\n",
        "model.fit(training_images, training_labels, epochs=10)\n",
        "test_loss, test_acc = model.evaluate(test_images, test_labels)\n",
        "print(test_acc)"
      ],
      "execution_count": 0,
      "outputs": [
        {
          "output_type": "stream",
          "text": [
            "1.15.0\n",
            "Train on 60000 samples\n",
            "Epoch 1/10\n",
            "60000/60000 [==============================] - 29s 480us/sample - loss: 0.1886 - acc: 0.9438\n",
            "Epoch 2/10\n",
            "60000/60000 [==============================] - 28s 473us/sample - loss: 0.0644 - acc: 0.9800\n",
            "Epoch 3/10\n",
            "60000/60000 [==============================] - 29s 478us/sample - loss: 0.0445 - acc: 0.9859\n",
            "Epoch 4/10\n",
            "60000/60000 [==============================] - 29s 476us/sample - loss: 0.0340 - acc: 0.9894\n",
            "Epoch 5/10\n",
            "60000/60000 [==============================] - 29s 478us/sample - loss: 0.0269 - acc: 0.9913\n",
            "Epoch 6/10\n",
            "60000/60000 [==============================] - 29s 477us/sample - loss: 0.0215 - acc: 0.9930\n",
            "Epoch 7/10\n",
            "60000/60000 [==============================] - 29s 475us/sample - loss: 0.0183 - acc: 0.9938\n",
            "Epoch 8/10\n",
            "60000/60000 [==============================] - 28s 474us/sample - loss: 0.0147 - acc: 0.9950\n",
            "Epoch 9/10\n",
            "60000/60000 [==============================] - 29s 476us/sample - loss: 0.0129 - acc: 0.9956\n",
            "Epoch 10/10\n",
            "60000/60000 [==============================] - 29s 479us/sample - loss: 0.0108 - acc: 0.9961\n",
            "10000/10000 [==============================] - 2s 208us/sample - loss: 0.0307 - acc: 0.9900\n",
            "0.99\n"
          ],
          "name": "stdout"
        }
      ]
    },
    {
      "cell_type": "markdown",
      "metadata": {
        "id": "urdU3WDvAIS7",
        "colab_type": "text"
      },
      "source": [
        "## Three Conv Layer, 16 Nodes"
      ]
    },
    {
      "cell_type": "code",
      "metadata": {
        "id": "m6imdiggAI6w",
        "colab_type": "code",
        "outputId": "6a311901-ffa8-4fcd-91c6-e1e1accd579a",
        "colab": {
          "base_uri": "https://localhost:8080/",
          "height": 587
        }
      },
      "source": [
        "import tensorflow as tf\n",
        "print(tf.__version__)\n",
        "mnist = tf.keras.datasets.mnist\n",
        "(training_images, training_labels), (test_images, test_labels) = mnist.load_data()\n",
        "training_images=training_images.reshape(60000, 28, 28, 1)\n",
        "training_images=training_images / 255.0\n",
        "test_images = test_images.reshape(10000, 28, 28, 1)\n",
        "test_images=test_images/255.0\n",
        "model = tf.keras.models.Sequential([\n",
        "  tf.keras.layers.Conv2D(16, (3,3), activation='relu', input_shape=(28, 28, 1)),\n",
        "  tf.keras.layers.MaxPooling2D(2, 2),\n",
        "  tf.keras.layers.Conv2D(16,(3,3),activation='relu'),\n",
        "  tf.keras.layers.MaxPooling2D(2,2),\n",
        "  tf.keras.layers.Conv2D(16,(3,3),activation='relu'),\n",
        "  tf.keras.layers.MaxPooling2D(2,2),  \n",
        "  tf.keras.layers.Flatten(),\n",
        "  tf.keras.layers.Dense(64, activation='relu'),\n",
        "  tf.keras.layers.Dense(10, activation='softmax')\n",
        "])\n",
        "model.compile(optimizer='adam', loss='sparse_categorical_crossentropy', metrics=['accuracy'])\n",
        "model.fit(training_images, training_labels, epochs=10)\n",
        "test_loss, test_acc = model.evaluate(test_images, test_labels)\n",
        "print(test_acc)"
      ],
      "execution_count": 1,
      "outputs": [
        {
          "output_type": "display_data",
          "data": {
            "text/html": [
              "<p style=\"color: red;\">\n",
              "The default version of TensorFlow in Colab will soon switch to TensorFlow 2.x.<br>\n",
              "We recommend you <a href=\"https://www.tensorflow.org/guide/migrate\" target=\"_blank\">upgrade</a> now \n",
              "or ensure your notebook will continue to use TensorFlow 1.x via the <code>%tensorflow_version 1.x</code> magic:\n",
              "<a href=\"https://colab.research.google.com/notebooks/tensorflow_version.ipynb\" target=\"_blank\">more info</a>.</p>\n"
            ],
            "text/plain": [
              "<IPython.core.display.HTML object>"
            ]
          },
          "metadata": {
            "tags": []
          }
        },
        {
          "output_type": "stream",
          "text": [
            "1.15.0\n",
            "Downloading data from https://storage.googleapis.com/tensorflow/tf-keras-datasets/mnist.npz\n",
            "11493376/11490434 [==============================] - 0s 0us/step\n",
            "WARNING:tensorflow:From /usr/local/lib/python3.6/dist-packages/tensorflow_core/python/ops/resource_variable_ops.py:1630: calling BaseResourceVariable.__init__ (from tensorflow.python.ops.resource_variable_ops) with constraint is deprecated and will be removed in a future version.\n",
            "Instructions for updating:\n",
            "If using Keras pass *_constraint arguments to layers.\n",
            "Train on 60000 samples\n",
            "Epoch 1/10\n",
            "60000/60000 [==============================] - 27s 449us/sample - loss: 0.4017 - acc: 0.8722\n",
            "Epoch 2/10\n",
            "60000/60000 [==============================] - 27s 453us/sample - loss: 0.1475 - acc: 0.9553\n",
            "Epoch 3/10\n",
            "60000/60000 [==============================] - 27s 454us/sample - loss: 0.1134 - acc: 0.9652\n",
            "Epoch 4/10\n",
            "60000/60000 [==============================] - 27s 458us/sample - loss: 0.0948 - acc: 0.9704\n",
            "Epoch 5/10\n",
            "60000/60000 [==============================] - 27s 457us/sample - loss: 0.0821 - acc: 0.9744\n",
            "Epoch 6/10\n",
            "60000/60000 [==============================] - 27s 456us/sample - loss: 0.0728 - acc: 0.9779\n",
            "Epoch 7/10\n",
            "60000/60000 [==============================] - 27s 448us/sample - loss: 0.0660 - acc: 0.9797\n",
            "Epoch 8/10\n",
            "60000/60000 [==============================] - 27s 457us/sample - loss: 0.0619 - acc: 0.9812\n",
            "Epoch 9/10\n",
            "60000/60000 [==============================] - 27s 455us/sample - loss: 0.0570 - acc: 0.9825\n",
            "Epoch 10/10\n",
            "60000/60000 [==============================] - 27s 454us/sample - loss: 0.0525 - acc: 0.9830\n",
            "10000/10000 [==============================] - 2s 190us/sample - loss: 0.0738 - acc: 0.9778\n",
            "0.9778\n"
          ],
          "name": "stdout"
        }
      ]
    },
    {
      "cell_type": "markdown",
      "metadata": {
        "id": "E1Aia1y7Ak0s",
        "colab_type": "text"
      },
      "source": [
        "## Four Conv Layer, 32 Nodes"
      ]
    },
    {
      "cell_type": "code",
      "metadata": {
        "id": "ulW8K7xhApha",
        "colab_type": "code",
        "outputId": "29941fe1-5375-4583-b05a-9c21d451ca28",
        "colab": {
          "base_uri": "https://localhost:8080/",
          "height": 434
        }
      },
      "source": [
        "import tensorflow as tf\n",
        "print(tf.__version__)\n",
        "mnist = tf.keras.datasets.mnist\n",
        "(training_images, training_labels), (test_images, test_labels) = mnist.load_data()\n",
        "training_images=training_images.reshape(60000, 28, 28, 1)\n",
        "training_images=training_images / 255.0\n",
        "test_images = test_images.reshape(10000, 28, 28, 1)\n",
        "test_images=test_images/255.0\n",
        "model = tf.keras.models.Sequential([\n",
        "  tf.keras.layers.Conv2D(32, (3,3), activation='relu', input_shape=(28, 28, 1)),\n",
        "  tf.keras.layers.MaxPooling2D(2, 2),\n",
        "  tf.keras.layers.BatchNormalization(axis=-1),\n",
        "  tf.keras.layers.Conv2D(32,(3,3),activation='relu'),\n",
        "  tf.keras.layers.MaxPooling2D(2,2),\n",
        "  tf.keras.layers.BatchNormalization(axis=-1),\n",
        "  tf.keras.layers.Conv2D(32,(3,3),activation='relu'),\n",
        "  tf.keras.layers.MaxPooling2D(2,2),\n",
        "  tf.keras.layers.BatchNormalization(axis=-1),\n",
        "  tf.keras.layers.Flatten(),\n",
        "  tf.keras.layers.Dense(128, activation='relu'),\n",
        "  tf.keras.layers.Dropout(rate=0.3),\n",
        "  tf.keras.layers.Dense(10, activation='softmax')\n",
        "])\n",
        "model.compile(optimizer='adam', loss='sparse_categorical_crossentropy', metrics=['accuracy'])\n",
        "model.fit(training_images, training_labels, epochs=10)\n",
        "test_loss, test_acc = model.evaluate(test_images, test_labels)\n",
        "print(test_acc)"
      ],
      "execution_count": 7,
      "outputs": [
        {
          "output_type": "stream",
          "text": [
            "1.15.0\n",
            "Train on 60000 samples\n",
            "Epoch 1/10\n",
            "60000/60000 [==============================] - 52s 868us/sample - loss: 0.1951 - acc: 0.9423\n",
            "Epoch 2/10\n",
            "60000/60000 [==============================] - 51s 850us/sample - loss: 0.0822 - acc: 0.9757\n",
            "Epoch 3/10\n",
            "60000/60000 [==============================] - 51s 853us/sample - loss: 0.0649 - acc: 0.9800\n",
            "Epoch 4/10\n",
            "60000/60000 [==============================] - 51s 851us/sample - loss: 0.0554 - acc: 0.9830\n",
            "Epoch 5/10\n",
            "60000/60000 [==============================] - 51s 850us/sample - loss: 0.0483 - acc: 0.9847\n",
            "Epoch 6/10\n",
            "60000/60000 [==============================] - 51s 853us/sample - loss: 0.0439 - acc: 0.9864\n",
            "Epoch 7/10\n",
            "60000/60000 [==============================] - 51s 855us/sample - loss: 0.0374 - acc: 0.9881\n",
            "Epoch 8/10\n",
            "60000/60000 [==============================] - 52s 862us/sample - loss: 0.0349 - acc: 0.9890\n",
            "Epoch 9/10\n",
            "60000/60000 [==============================] - 51s 853us/sample - loss: 0.0318 - acc: 0.9899\n",
            "Epoch 10/10\n",
            "60000/60000 [==============================] - 51s 849us/sample - loss: 0.0298 - acc: 0.9905\n",
            "10000/10000 [==============================] - 3s 289us/sample - loss: 0.0447 - acc: 0.9882\n",
            "0.9882\n"
          ],
          "name": "stdout"
        }
      ]
    }
  ]
}