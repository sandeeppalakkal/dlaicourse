{
  "nbformat": 4,
  "nbformat_minor": 0,
  "metadata": {
    "colab": {
      "name": "Course 1 - Part 4 - Lesson 4 - Notebook.ipynb",
      "provenance": [],
      "collapsed_sections": []
    },
    "kernelspec": {
      "name": "python3",
      "display_name": "Python 3"
    }
  },
  "cells": [
    {
      "cell_type": "code",
      "metadata": {
        "id": "N9-BCmi15L93",
        "colab_type": "code",
        "colab": {
          "base_uri": "https://localhost:8080/",
          "height": 295
        },
        "outputId": "25b6218b-a929-46ed-ea35-75eceddb397a"
      },
      "source": [
        "import tensorflow as tf\n",
        "\n",
        "class myCallback(tf.keras.callbacks.Callback):\n",
        "  def on_epoch_end(self, epoch, logs={}):\n",
        "    min_acc = 0.90\n",
        "    if(logs.get('acc')>min_acc):\n",
        "      print(\"\\nReached %.2f%% accuracy so cancelling training!\" % (min_acc*100))\n",
        "      self.model.stop_training = True\n",
        "\n",
        "mnist = tf.keras.datasets.fashion_mnist\n",
        "\n",
        "(x_train, y_train),(x_test, y_test) = mnist.load_data()\n",
        "x_train, x_test = x_train / 255.0, x_test / 255.0\n",
        "\n",
        "callbacks = myCallback()\n",
        "\n",
        "model = tf.keras.models.Sequential([\n",
        "  tf.keras.layers.Flatten(input_shape=(28, 28)),\n",
        "  tf.keras.layers.Dense(1024, activation=tf.nn.relu),\n",
        "  tf.keras.layers.Dense(10, activation=tf.nn.softmax)\n",
        "])\n",
        "model.compile(optimizer='adam',\n",
        "              loss='sparse_categorical_crossentropy',\n",
        "              metrics=['accuracy'])\n",
        "\n",
        "model.fit(x_train, y_train, epochs=10, callbacks=[callbacks])"
      ],
      "execution_count": 8,
      "outputs": [
        {
          "output_type": "stream",
          "text": [
            "Train on 60000 samples\n",
            "Epoch 1/10\n",
            "60000/60000 [==============================] - 15s 243us/sample - loss: 0.4719 - acc: 0.8318\n",
            "Epoch 2/10\n",
            "60000/60000 [==============================] - 15s 250us/sample - loss: 0.3579 - acc: 0.8694\n",
            "Epoch 3/10\n",
            "60000/60000 [==============================] - 15s 252us/sample - loss: 0.3198 - acc: 0.8819\n",
            "Epoch 4/10\n",
            "60000/60000 [==============================] - 15s 252us/sample - loss: 0.2977 - acc: 0.8900\n",
            "Epoch 5/10\n",
            "60000/60000 [==============================] - 15s 249us/sample - loss: 0.2784 - acc: 0.8962\n",
            "Epoch 6/10\n",
            "59968/60000 [============================>.] - ETA: 0s - loss: 0.2638 - acc: 0.9012\n",
            "Reached 90.00% accuracy so cancelling training!\n",
            "60000/60000 [==============================] - 15s 248us/sample - loss: 0.2637 - acc: 0.9012\n"
          ],
          "name": "stdout"
        },
        {
          "output_type": "execute_result",
          "data": {
            "text/plain": [
              "<tensorflow.python.keras.callbacks.History at 0x7fd26f404550>"
            ]
          },
          "metadata": {
            "tags": []
          },
          "execution_count": 8
        }
      ]
    }
  ]
}